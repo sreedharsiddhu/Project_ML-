{
  "nbformat": 4,
  "nbformat_minor": 0,
  "metadata": {
    "colab": {
      "provenance": [],
      "authorship_tag": "ABX9TyPMRW21FZMedMsYLm3Yv/ed",
      "include_colab_link": true
    },
    "kernelspec": {
      "name": "python3",
      "display_name": "Python 3"
    },
    "language_info": {
      "name": "python"
    }
  },
  "cells": [
    {
      "cell_type": "markdown",
      "metadata": {
        "id": "view-in-github",
        "colab_type": "text"
      },
      "source": [
        "<a href=\"https://colab.research.google.com/github/sreedharsiddhu/Project_ML-/blob/main/22MAY.ipynb\" target=\"_parent\"><img src=\"https://colab.research.google.com/assets/colab-badge.svg\" alt=\"Open In Colab\"/></a>"
      ]
    },
    {
      "cell_type": "code",
      "execution_count": 1,
      "metadata": {
        "id": "hy1HUIyC3ESQ"
      },
      "outputs": [],
      "source": [
        "import pandas as pd\n",
        "import numpy as np\n",
        "import matplotlib.pyplot as plt\n",
        "import seaborn as sns\n",
        "from statsmodels.tsa.stattools import adfuller\n",
        "from statsmodels.tsa.arima.model import ARIMA\n",
        "from statsmodels.graphics.tsaplots import plot_acf, plot_pacf\n",
        "from sklearn.metrics import mean_squared_error\n",
        "\n",
        "# Load the datasets for the three airports\n",
        "file_grazzanise = '/content/Grazzanise airport.xlsx'\n",
        "file_treviso = '/content/Trapani airport.xlsx'\n",
        "file_trapani = '/content/Treviso airport.xlsx'\n",
        "\n",
        "Grazzanise_Airport = pd.read_excel(file_grazzanise)\n",
        "Treviso_Airport = pd.read_excel(file_treviso)\n",
        "Trapani_Airport = pd.read_excel(file_trapani)\n"
      ]
    },
    {
      "cell_type": "code",
      "source": [
        "# Display the first few rows of each dataset\n",
        "print(\"Grazzanise Airport Data:\")\n",
        "print(Grazzanise_Airport.head())\n",
        "print(\"\\nTreviso Airport Data:\")\n",
        "print(Treviso_Airport.head())\n",
        "print(\"\\nTrapani Airport Data:\")\n",
        "print(Trapani_Airport.head())\n"
      ],
      "metadata": {
        "colab": {
          "base_uri": "https://localhost:8080/"
        },
        "id": "u_kon9VF4E9L",
        "outputId": "b17e9209-b407-42d0-8948-f9103b8e7756"
      },
      "execution_count": 2,
      "outputs": [
        {
          "output_type": "stream",
          "name": "stdout",
          "text": [
            "Grazzanise Airport Data:\n",
            "               date  idstazione    lon    lat  altezza  pressure  \\\n",
            "0  14/03/1996 12:00       16253  14.07  41.05       10  100790.0   \n",
            "1  16/01/1997 18:00       16253  14.07  41.05       10  102290.0   \n",
            "2  19/06/1997 06:00       16253  14.07  41.05       10  100850.0   \n",
            "3  30/05/1998 18:00       16253  14.07  41.05       10  101520.0   \n",
            "4  15/12/1998 21:00       16253  14.07  41.05       10  102580.0   \n",
            "\n",
            "   three_hour_pressure_change  char_pressure_tendency  wind_direction  \\\n",
            "0                        20.0                     0.0            70.0   \n",
            "1                        20.0                     3.0             0.0   \n",
            "2                      -380.0                     6.0             0.0   \n",
            "3                        10.0                     0.0           260.0   \n",
            "4                        60.0                     1.0           100.0   \n",
            "\n",
            "   wind_speed  relative_humidity  visibility  present_weather  past_weather1  \\\n",
            "0      7.7752                NaN     15000.0              2.0            1.0   \n",
            "1      0.0000                NaN      1800.0             10.0            0.0   \n",
            "2      0.0000                NaN      4500.0             10.0            1.0   \n",
            "3      5.8314                NaN     20000.0              2.0            1.0   \n",
            "4      3.8876                NaN      8000.0             10.0            0.0   \n",
            "\n",
            "   past_weather2  cloud_cover  height_of_base_of_cloud  cloud_type  drybulb  \\\n",
            "0            1.0          6.0                   1750.0          35      NaN   \n",
            "1            0.0          1.0                    800.0          31      NaN   \n",
            "2            1.0          6.0                    800.0          38      NaN   \n",
            "3            1.0          4.0                   3500.0          30      NaN   \n",
            "4            0.0          0.0                      NaN          62      NaN   \n",
            "\n",
            "   dewpoint  \n",
            "0       NaN  \n",
            "1       NaN  \n",
            "2       NaN  \n",
            "3       NaN  \n",
            "4       NaN  \n",
            "\n",
            "Treviso Airport Data:\n",
            "               date  idstazione   lon    lat  altezza  pressure  \\\n",
            "0  01/01/1996 00:00       16429  12.5  37.92        9  100270.0   \n",
            "1  01/01/1996 03:00       16429  12.5  37.92        9  100280.0   \n",
            "2  01/01/1996 06:00       16429  12.5  37.92        9  100310.0   \n",
            "3  01/01/1996 09:00       16429  12.5  37.92        9  100490.0   \n",
            "4  01/01/1996 12:00       16429  12.5  37.92        9  100520.0   \n",
            "\n",
            "   three_hour_pressure_change  char_pressure_tendency  wind_direction  \\\n",
            "0                        70.0                     1.0           270.0   \n",
            "1                        10.0                     3.0           270.0   \n",
            "2                        30.0                     3.0           270.0   \n",
            "3                       180.0                     1.0           270.0   \n",
            "4                        30.0                     0.0           280.0   \n",
            "\n",
            "   wind_speed  relative_humidity  visibility  present_weather  past_weather1  \\\n",
            "0     15.5504                NaN     10000.0              2.0            1.0   \n",
            "1     17.4942                NaN     10000.0              2.0            1.0   \n",
            "2     13.6066                NaN     14000.0              2.0            1.0   \n",
            "3      9.7190                NaN     18000.0              2.0            1.0   \n",
            "4     13.6066                NaN     18000.0              2.0            1.0   \n",
            "\n",
            "   past_weather2  cloud_cover  height_of_base_of_cloud  cloud_type  drybulb  \\\n",
            "0            1.0          5.0                    450.0          35      NaN   \n",
            "1            1.0          4.0                    250.0          35      NaN   \n",
            "2            1.0          2.0                    450.0          35      NaN   \n",
            "3            1.0          3.0                    800.0          35      NaN   \n",
            "4            1.0          6.0                    800.0          35      NaN   \n",
            "\n",
            "   dewpoint  \n",
            "0       NaN  \n",
            "1       NaN  \n",
            "2       NaN  \n",
            "3       NaN  \n",
            "4       NaN  \n",
            "\n",
            "Trapani Airport Data:\n",
            "               date  idstazione   lon    lat  altezza  pressure  \\\n",
            "0  01/01/1996 00:00       16098  12.1  45.68       42   99090.0   \n",
            "1  01/01/1996 03:00       16098  12.1  45.68       42   99210.0   \n",
            "2  01/01/1996 06:00       16098  12.1  45.68       42   99330.0   \n",
            "3  01/01/1996 09:00       16098  12.1  45.68       42       NaN   \n",
            "4  01/01/1996 12:00       16098  12.1  45.68       42   99640.0   \n",
            "\n",
            "   three_hour_pressure_change  char_pressure_tendency  wind_direction  \\\n",
            "0                       100.0                     2.0            10.0   \n",
            "1                       120.0                     2.0             0.0   \n",
            "2                       120.0                     2.0            20.0   \n",
            "3                         NaN                     NaN             0.0   \n",
            "4                        20.0                     1.0            40.0   \n",
            "\n",
            "   wind_speed  relative_humidity  visibility  present_weather  past_weather1  \\\n",
            "0      5.8314                NaN      4000.0             10.0            6.0   \n",
            "1      1.9438                NaN      3000.0             50.0            5.0   \n",
            "2      1.9438                NaN      2500.0             60.0            6.0   \n",
            "3      1.9438                NaN      2500.0              NaN            NaN   \n",
            "4      5.8314                NaN      8000.0             10.0            6.0   \n",
            "\n",
            "   past_weather2  cloud_cover  height_of_base_of_cloud  cloud_type  drybulb  \\\n",
            "0            5.0          8.0                    800.0          37      NaN   \n",
            "1            2.0          8.0                    450.0          37      NaN   \n",
            "2            5.0          8.0                    450.0          37      NaN   \n",
            "3            NaN          8.0                      NaN          62      NaN   \n",
            "4            2.0          8.0                    800.0          35      NaN   \n",
            "\n",
            "   dewpoint  \n",
            "0       NaN  \n",
            "1       NaN  \n",
            "2       NaN  \n",
            "3       NaN  \n",
            "4       NaN  \n"
          ]
        }
      ]
    },
    {
      "cell_type": "code",
      "source": [
        "# Function to print missing values\n",
        "def print_missing_values(data, airport_name):\n",
        "    total_missing = data.isnull().sum().sum()\n",
        "    print(f\"Total missing values in {airport_name}: {total_missing}\")\n",
        "    missing_values_per_column = data.isnull().sum()\n",
        "    print(f\"\\nMissing values per column in {airport_name}:\")\n",
        "    print(missing_values_per_column)\n",
        "\n",
        "print_missing_values(Grazzanise_Airport, \"Grazzanise_Airport\")\n",
        "print_missing_values(Treviso_Airport, \"Treviso_Airport\")\n",
        "print_missing_values(Trapani_Airport, \"Trapani_Airport\")\n"
      ],
      "metadata": {
        "colab": {
          "base_uri": "https://localhost:8080/"
        },
        "id": "8JKbrpjy4HSr",
        "outputId": "88566ad4-ab51-4b9b-ddc8-5afb31541c4d"
      },
      "execution_count": 3,
      "outputs": [
        {
          "output_type": "stream",
          "name": "stdout",
          "text": [
            "Total missing values in Grazzanise_Airport: 157463\n",
            "\n",
            "Missing values per column in Grazzanise_Airport:\n",
            "date                              0\n",
            "idstazione                        0\n",
            "lon                               0\n",
            "lat                               0\n",
            "altezza                           0\n",
            "pressure                         29\n",
            "three_hour_pressure_change      216\n",
            "char_pressure_tendency         2818\n",
            "wind_direction                   40\n",
            "wind_speed                       40\n",
            "relative_humidity             69191\n",
            "visibility                       21\n",
            "present_weather                  35\n",
            "past_weather1                    40\n",
            "past_weather2                    42\n",
            "cloud_cover                      64\n",
            "height_of_base_of_cloud       17669\n",
            "cloud_type                        0\n",
            "drybulb                       33632\n",
            "dewpoint                      33626\n",
            "dtype: int64\n",
            "Total missing values in Treviso_Airport: 410225\n",
            "\n",
            "Missing values per column in Treviso_Airport:\n",
            "date                               0\n",
            "idstazione                         0\n",
            "lon                                0\n",
            "lat                                0\n",
            "altezza                            0\n",
            "pressure                         162\n",
            "three_hour_pressure_change       343\n",
            "char_pressure_tendency          3166\n",
            "wind_direction                    63\n",
            "wind_speed                        64\n",
            "relative_humidity             175664\n",
            "visibility                        23\n",
            "present_weather                  115\n",
            "past_weather1                    124\n",
            "past_weather2                    119\n",
            "cloud_cover                       57\n",
            "height_of_base_of_cloud        36592\n",
            "cloud_type                         0\n",
            "drybulb                        96866\n",
            "dewpoint                       96867\n",
            "dtype: int64\n",
            "Total missing values in Trapani_Airport: 428951\n",
            "\n",
            "Missing values per column in Trapani_Airport:\n",
            "date                               0\n",
            "idstazione                         0\n",
            "lon                                0\n",
            "lat                                0\n",
            "altezza                            0\n",
            "pressure                          94\n",
            "three_hour_pressure_change       250\n",
            "char_pressure_tendency          3095\n",
            "wind_direction                    63\n",
            "wind_speed                        63\n",
            "relative_humidity             174112\n",
            "visibility                        41\n",
            "present_weather                  177\n",
            "past_weather1                    185\n",
            "past_weather2                    187\n",
            "cloud_cover                     1563\n",
            "height_of_base_of_cloud        55206\n",
            "cloud_type                         0\n",
            "drybulb                        96957\n",
            "dewpoint                       96958\n",
            "dtype: int64\n"
          ]
        }
      ]
    },
    {
      "cell_type": "code",
      "source": [
        "# Fill 'height_of_base_of_cloud' with mode (most frequent value)\n",
        "mode_value = 800\n",
        "Grazzanise_Airport['height_of_base_of_cloud'].fillna(mode_value, inplace=True)\n",
        "Treviso_Airport['height_of_base_of_cloud'].fillna(mode_value, inplace=True)\n",
        "Trapani_Airport['height_of_base_of_cloud'].fillna(mode_value, inplace=True)\n",
        "\n",
        "# Drop rows with missing values in 'drybulb' and 'dewpoint'\n",
        "Grazzanise_Airport.dropna(subset=['drybulb', 'dewpoint'], inplace=True)\n",
        "Treviso_Airport.dropna(subset=['drybulb', 'dewpoint'], inplace=True)\n",
        "Trapani_Airport.dropna(subset=['drybulb', 'dewpoint'], inplace=True)\n"
      ],
      "metadata": {
        "id": "VI_JdrSH4LJo"
      },
      "execution_count": 4,
      "outputs": []
    },
    {
      "cell_type": "markdown",
      "source": [],
      "metadata": {
        "id": "H4YaISIi4Mea"
      }
    },
    {
      "cell_type": "code",
      "source": [
        "print(\"Summary statistics for Grazzanise_Airport:\")\n",
        "print(Grazzanise_Airport.describe())\n",
        "print(\"\\nSummary statistics for Treviso_Airport:\")\n",
        "print(Treviso_Airport.describe())\n",
        "print(\"\\nSummary statistics for Trapani_Airport:\")\n",
        "print(Trapani_Airport.describe())\n"
      ],
      "metadata": {
        "colab": {
          "base_uri": "https://localhost:8080/"
        },
        "id": "IP2rYG2b4O1E",
        "outputId": "e9368e3c-7dde-4882-f3ce-4d7dfbecd09c"
      },
      "execution_count": 5,
      "outputs": [
        {
          "output_type": "stream",
          "name": "stdout",
          "text": [
            "Summary statistics for Grazzanise_Airport:\n",
            "       idstazione           lon           lat  altezza       pressure  \\\n",
            "count     35558.0  35558.000000  35558.000000  35558.0   35556.000000   \n",
            "mean      16253.0     14.073341     41.053341     10.0  101479.943469   \n",
            "std           0.0      0.004717      0.004717      0.0     684.264067   \n",
            "min       16253.0     14.070000     41.050000     10.0   98230.000000   \n",
            "25%       16253.0     14.070000     41.050000     10.0  101100.000000   \n",
            "50%       16253.0     14.070000     41.050000     10.0  101470.000000   \n",
            "75%       16253.0     14.080000     41.060000     10.0  101880.000000   \n",
            "max       16253.0     14.080000     41.060000     10.0  103590.000000   \n",
            "\n",
            "       three_hour_pressure_change  char_pressure_tendency  wind_direction  \\\n",
            "count                35400.000000            35400.000000    35546.000000   \n",
            "mean                     1.433898                4.251356      160.027289   \n",
            "std                     97.775364                2.490205      121.271859   \n",
            "min                   -670.000000                0.000000        0.000000   \n",
            "25%                    -50.000000                2.000000       40.000000   \n",
            "50%                      0.000000                4.000000      160.000000   \n",
            "75%                     50.000000                7.000000      260.000000   \n",
            "max                   1030.000000                8.000000      360.000000   \n",
            "\n",
            "         wind_speed  relative_humidity    visibility  present_weather  \\\n",
            "count  35546.000000                0.0  35558.000000     35558.000000   \n",
            "mean       5.873452                NaN  14943.663873         7.616626   \n",
            "std        3.903105                NaN   6884.662477        16.287913   \n",
            "min        0.000000                NaN     50.000000         1.000000   \n",
            "25%        3.887600                NaN  10000.000000         2.000000   \n",
            "50%        5.831400                NaN  15000.000000         2.000000   \n",
            "75%        7.775200                NaN  20000.000000         2.000000   \n",
            "max       58.314000                NaN  75000.000000        99.000000   \n",
            "\n",
            "       past_weather1  past_weather2   cloud_cover  height_of_base_of_cloud  \\\n",
            "count   35557.000000   35556.000000  35545.000000             35558.000000   \n",
            "mean        1.726889       1.274637      3.453735              1494.933348   \n",
            "std         1.981499       1.082261      2.785095              1871.690623   \n",
            "min         0.000000       0.000000      0.000000                30.000000   \n",
            "25%         1.000000       1.000000      0.000000               800.000000   \n",
            "50%         1.000000       1.000000      3.000000               800.000000   \n",
            "75%         1.000000       1.000000      6.000000              1250.000000   \n",
            "max         9.000000       9.000000      8.000000              8000.000000   \n",
            "\n",
            "         cloud_type       drybulb      dewpoint  \n",
            "count  35558.000000  35558.000000  35558.000000  \n",
            "mean      40.508324     16.610957     11.703538  \n",
            "std       13.092224      7.614976      7.198601  \n",
            "min       30.000000     -4.949990    -29.950000  \n",
            "25%       31.000000     11.050000      6.950000  \n",
            "50%       34.000000     16.050000     11.850000  \n",
            "75%       62.000000     22.050000     17.050000  \n",
            "max       62.000000     39.450000     32.350000  \n",
            "\n",
            "Summary statistics for Treviso_Airport:\n",
            "       idstazione           lon           lat  altezza       pressure  \\\n",
            "count     78798.0  78798.000000  78798.000000  78798.0   78798.000000   \n",
            "mean      16429.0     12.498482     37.918482      9.0  101527.394477   \n",
            "std           0.0      0.003589      0.003589      0.0     611.703006   \n",
            "min       16429.0     12.490000     37.910000      9.0   98330.000000   \n",
            "25%       16429.0     12.500000     37.920000      9.0  101190.000000   \n",
            "50%       16429.0     12.500000     37.920000      9.0  101500.000000   \n",
            "75%       16429.0     12.500000     37.920000      9.0  101870.000000   \n",
            "max       16429.0     12.500000     37.920000      9.0  103610.000000   \n",
            "\n",
            "       three_hour_pressure_change  char_pressure_tendency  wind_direction  \\\n",
            "count                78700.000000            78700.000000    78797.000000   \n",
            "mean                     1.815502                4.071525      197.708796   \n",
            "std                     93.857580                2.516585      107.770425   \n",
            "min                  -1040.000000                0.000000        0.000000   \n",
            "25%                    -60.000000                2.000000      120.000000   \n",
            "50%                      0.000000                4.000000      170.000000   \n",
            "75%                     60.000000                6.000000      300.000000   \n",
            "max                   1070.000000                8.000000      500.000000   \n",
            "\n",
            "         wind_speed  relative_humidity    visibility  present_weather  \\\n",
            "count  78797.000000                0.0  78798.000000     78798.000000   \n",
            "mean       8.517696                NaN  16441.344323         5.619851   \n",
            "std        5.538485                NaN   5037.265231        13.963936   \n",
            "min        0.000000                NaN     50.000000         1.000000   \n",
            "25%        3.887600                NaN  12000.000000         2.000000   \n",
            "50%        7.775200                NaN  16000.000000         2.000000   \n",
            "75%       11.662800                NaN  20000.000000         2.000000   \n",
            "max      320.727000                NaN  75000.000000        97.000000   \n",
            "\n",
            "       past_weather1  past_weather2   cloud_cover  height_of_base_of_cloud  \\\n",
            "count   78796.000000   78798.000000  78796.000000             78798.000000   \n",
            "mean        1.498198       1.194383      3.348673              1248.262012   \n",
            "std         1.616452       0.858725      2.563828              1740.419806   \n",
            "min         0.000000       0.000000      0.000000                30.000000   \n",
            "25%         1.000000       1.000000      1.000000               800.000000   \n",
            "50%         1.000000       1.000000      3.000000               800.000000   \n",
            "75%         1.000000       1.000000      5.000000               800.000000   \n",
            "max         9.000000       9.000000      8.000000              8000.000000   \n",
            "\n",
            "         cloud_type       drybulb      dewpoint  \n",
            "count  78798.000000  78798.000000  78798.000000  \n",
            "mean      39.799563     18.389429     14.205404  \n",
            "std       12.029807      6.446943      5.715055  \n",
            "min       30.000000      1.050000    -29.950000  \n",
            "25%       32.000000     13.450000     10.050000  \n",
            "50%       35.000000     17.850000     13.850000  \n",
            "75%       38.000000     23.250000     18.650000  \n",
            "max       62.000000     60.050000     48.950000  \n",
            "\n",
            "Summary statistics for Trapani_Airport:\n",
            "       idstazione           lon           lat  altezza       pressure  \\\n",
            "count     77151.0  77151.000000  7.715100e+04  77151.0   77149.000000   \n",
            "mean      16098.0     12.101550  4.568000e+01     42.0  101137.149542   \n",
            "std           0.0      0.003619  7.105473e-15      0.0     764.252007   \n",
            "min       16098.0     12.100000  4.568000e+01     42.0   97050.000000   \n",
            "25%       16098.0     12.100000  4.568000e+01     42.0  100700.000000   \n",
            "50%       16098.0     12.100000  4.568000e+01     42.0  101120.000000   \n",
            "75%       16098.0     12.100000  4.568000e+01     42.0  101600.000000   \n",
            "max       16098.0     12.110000  4.568000e+01     42.0  103980.000000   \n",
            "\n",
            "       three_hour_pressure_change  char_pressure_tendency  wind_direction  \\\n",
            "count                77047.000000            77047.000000    77151.000000   \n",
            "mean                     0.712552                4.459421      114.795012   \n",
            "std                    110.133586                2.604728      113.721866   \n",
            "min                  -3890.000000                0.000000        0.000000   \n",
            "25%                    -60.000000                2.000000       20.000000   \n",
            "50%                      0.000000                4.000000       70.000000   \n",
            "75%                     60.000000                7.000000      200.000000   \n",
            "max                    920.000000                8.000000      360.000000   \n",
            "\n",
            "         wind_speed  relative_humidity    visibility  present_weather  \\\n",
            "count  77151.000000                0.0  77151.000000     77148.000000   \n",
            "mean       4.215384                NaN  14571.440422        10.511225   \n",
            "std        3.050105                NaN  10061.179568        18.299749   \n",
            "min        0.000000                NaN     50.000000         1.000000   \n",
            "25%        1.943800                NaN   8000.000000         2.000000   \n",
            "50%        3.887600                NaN  12000.000000         2.000000   \n",
            "75%        5.831400                NaN  20000.000000        10.000000   \n",
            "max       50.538800                NaN  75000.000000        97.000000   \n",
            "\n",
            "       past_weather1  past_weather2   cloud_cover  height_of_base_of_cloud  \\\n",
            "count   77147.000000   77145.000000  76482.000000             77151.000000   \n",
            "mean        1.844466       1.470892      3.906749              1886.216381   \n",
            "std         2.006292       1.380337      3.050562              2195.010909   \n",
            "min         0.000000       0.000000      0.000000                30.000000   \n",
            "25%         1.000000       1.000000      0.000000               800.000000   \n",
            "50%         1.000000       1.000000      4.000000               800.000000   \n",
            "75%         2.000000       1.000000      7.000000              2250.000000   \n",
            "max         9.000000       9.000000      8.000000              8000.000000   \n",
            "\n",
            "         cloud_type       drybulb      dewpoint  \n",
            "count  77151.000000  77151.000000  77151.000000  \n",
            "mean      41.091198     14.417491      9.626629  \n",
            "std       13.688011      8.463925      7.441448  \n",
            "min       30.000000     -8.750000    -29.950000  \n",
            "25%       30.000000      7.850000      4.050000  \n",
            "50%       35.000000     14.050000      9.850000  \n",
            "75%       62.000000     20.850000     15.650000  \n",
            "max       62.000000     55.050000     29.650000  \n"
          ]
        }
      ]
    },
    {
      "cell_type": "code",
      "source": [
        "# Get the column names of each dataset\n",
        "cols1 = set(Grazzanise_Airport.columns)\n",
        "cols2 = set(Treviso_Airport.columns)\n",
        "cols3 = set(Trapani_Airport.columns)\n",
        "\n",
        "# Find the common column names\n",
        "common_cols = cols1.intersection(cols2).intersection(cols3)\n",
        "print(\"Common column names in all three datasets:\")\n",
        "print(common_cols)\n",
        "\n",
        "# Find the unique column names in each dataset\n",
        "unique_cols1 = cols1 - common_cols\n",
        "unique_cols2 = cols2 - common_cols\n",
        "unique_cols3 = cols3 - common_cols\n",
        "\n",
        "print(\"\\nUnique column names in Grazzanise_Airport:\")\n",
        "print(unique_cols1)\n",
        "print(\"\\nUnique column names in Treviso_Airport:\")\n",
        "print(unique_cols2)\n",
        "print(\"\\nUnique column names in Trapani_Airport:\")\n",
        "print(unique_cols3)\n"
      ],
      "metadata": {
        "colab": {
          "base_uri": "https://localhost:8080/"
        },
        "id": "sH7xaxVe4Ts3",
        "outputId": "859055af-f303-4aff-9cfb-a0b09d61b5c1"
      },
      "execution_count": 6,
      "outputs": [
        {
          "output_type": "stream",
          "name": "stdout",
          "text": [
            "Common column names in all three datasets:\n",
            "{'lon', 'char_pressure_tendency', 'past_weather2', 'cloud_type', 'height_of_base_of_cloud', 'wind_direction', 'cloud_cover', 'present_weather', 'relative_humidity', 'pressure', 'lat', 'drybulb', 'dewpoint', 'date', 'three_hour_pressure_change', 'altezza', 'wind_speed', 'visibility', 'past_weather1', 'idstazione'}\n",
            "\n",
            "Unique column names in Grazzanise_Airport:\n",
            "set()\n",
            "\n",
            "Unique column names in Treviso_Airport:\n",
            "set()\n",
            "\n",
            "Unique column names in Trapani_Airport:\n",
            "set()\n"
          ]
        }
      ]
    },
    {
      "cell_type": "code",
      "source": [
        "# Function to plot box plots and identify outliers\n",
        "def plot_box_and_identify_outliers(data, column):\n",
        "    plt.figure(figsize=(10, 6))\n",
        "    sns.boxplot(data=data, x=column)\n",
        "    plt.title(f\"Box Plot for {column}\")\n",
        "    plt.show()\n",
        "\n",
        "    q1 = data[column].quantile(0.25)\n",
        "    q3 = data[column].quantile(0.75)\n",
        "    iqr = q3 - q1\n",
        "    lower_bound = q1 - 1.5 * iqr\n",
        "    upper_bound = q3 + 1.5 * iqr\n",
        "    outliers = data[(data[column] < lower_bound) | (data[column] > upper_bound)]\n",
        "\n",
        "    if not outliers.empty:\n",
        "        print(f\"Outliers in {column}:\")\n",
        "        print(outliers)\n",
        "    else:\n",
        "        print(f\"No outliers detected in {column}\")\n",
        "\n",
        "# Check for outliers in Grazzanise_Airport\n",
        "for column in Grazzanise_Airport.select_dtypes(include=['float64', 'int64']).columns:\n",
        "    plot_box_and_identify_outliers(Grazzanise_Airport, column)\n"
      ],
      "metadata": {
        "colab": {
          "base_uri": "https://localhost:8080/",
          "height": 1000
        },
        "id": "0TvjbJRN4jTB",
        "outputId": "650d9382-9e37-48dc-98b2-fca02f78bbf2"
      },
      "execution_count": 7,
      "outputs": [
        {
          "output_type": "display_data",
          "data": {
            "text/plain": [
              "<Figure size 1000x600 with 1 Axes>"
            ],
            "image/png": "[encoded data removed]"
          },
          "metadata": {}
        },
        {
          "output_type": "stream",
          "name": "stdout",
          "text": [
            "No outliers detected in idstazione\n"
          ]
        },
        {
          "output_type": "display_data",
          "data": {
            "text/plain": [
              "<Figure size 1000x600 with 1 Axes>"
            ],
            "image/png": "[encoded data removed]"
          },
          "metadata": {}
        },
        {
          "output_type": "stream",
          "name": "stdout",
          "text": [
            "No outliers detected in lon\n"
          ]
        },
        {
          "output_type": "display_data",
          "data": {
            "text/plain": [
              "<Figure size 1000x600 with 1 Axes>"
            ],
            "image/png": "[encoded data removed]"
          },
          "metadata": {}
        },
        {
          "output_type": "stream",
          "name": "stdout",
          "text": [
            "No outliers detected in lat\n"
          ]
        },
        {
          "output_type": "display_data",
          "data": {
            "text/plain": [
              "<Figure size 1000x600 with 1 Axes>"
            ],
            "image/png": "[encoded data removed]"
          },
          "metadata": {}
        },
        {
          "output_type": "stream",
          "name": "stdout",
          "text": [
            "No outliers detected in altezza\n"
          ]
        },
        {
          "output_type": "display_data",
          "data": {
            "text/plain": [
              "<Figure size 1000x600 with 1 Axes>"
            ],
            "image/png": "[encoded data removed]"
          },
          "metadata": {}
        },
        {
          "output_type": "stream",
          "name": "stdout",
          "text": [
            "Outliers in pressure:\n",
            "                   date  idstazione    lon    lat  altezza  pressure  \\\n",
            "34132  05/11/2013 03:00       16253  14.07  41.05       10   99810.0   \n",
            "34133  05/11/2013 06:00       16253  14.07  41.05       10   99570.0   \n",
            "34134  05/11/2013 09:00       16253  14.07  41.05       10   99590.0   \n",
            "34135  05/11/2013 12:00       16253  14.07  41.05       10   99580.0   \n",
            "34136  05/11/2013 15:00       16253  14.07  41.05       10   99520.0   \n",
            "...                 ...         ...    ...    ...      ...       ...   \n",
            "68951  03/11/2023 22:00       16253  14.08  41.06       10   99920.0   \n",
            "68955  04/11/2023 02:00       16253  14.08  41.06       10   99900.0   \n",
            "68956  04/11/2023 03:00       16253  14.08  41.06       10   99880.0   \n",
            "68957  04/11/2023 04:00       16253  14.08  41.06       10   99910.0   \n",
            "68959  04/11/2023 06:00       16253  14.08  41.06       10   99910.0   \n",
            "\n",
            "       three_hour_pressure_change  char_pressure_tendency  wind_direction  \\\n",
            "34132                      -210.0                     6.0           250.0   \n",
            "34133                      -240.0                     7.0           240.0   \n",
            "34134                        20.0                     3.0           240.0   \n",
            "34135                       -10.0                     8.0             0.0   \n",
            "34136                       -70.0                     6.0           270.0   \n",
            "...                           ...                     ...             ...   \n",
            "68951                       -50.0                     8.0            90.0   \n",
            "68955                        40.0                     4.0            40.0   \n",
            "68956                       -50.0                     7.0           320.0   \n",
            "68957                       -30.0                     7.0            70.0   \n",
            "68959                        30.0                     3.0            70.0   \n",
            "\n",
            "       wind_speed  relative_humidity  visibility  present_weather  \\\n",
            "34132     13.6066                NaN      7000.0             17.0   \n",
            "34133     15.5504                NaN      6000.0             60.0   \n",
            "34134      3.8876                NaN      8000.0             60.0   \n",
            "34135      0.0000                NaN     10000.0              3.0   \n",
            "34136      7.7752                NaN     10000.0              2.0   \n",
            "...           ...                ...         ...              ...   \n",
            "68951      3.8876                NaN      6000.0              2.0   \n",
            "68955      5.8314                NaN      8000.0             60.0   \n",
            "68956      7.7752                NaN     10000.0              2.0   \n",
            "68957      7.7752                NaN      5000.0             60.0   \n",
            "68959      7.7752                NaN      6000.0             60.0   \n",
            "\n",
            "       past_weather1  past_weather2  cloud_cover  height_of_base_of_cloud  \\\n",
            "34132            9.0            2.0          7.0                    450.0   \n",
            "34133            9.0            6.0          8.0                    450.0   \n",
            "34134            6.0            6.0          8.0                    450.0   \n",
            "34135            6.0            2.0          8.0                    450.0   \n",
            "34136            1.0            1.0          6.0                    800.0   \n",
            "...              ...            ...          ...                      ...   \n",
            "68951            1.0            1.0          8.0                    800.0   \n",
            "68955            6.0            6.0          7.0                    800.0   \n",
            "68956            1.0            1.0          4.0                   2250.0   \n",
            "68957            6.0            6.0          8.0                    800.0   \n",
            "68959            6.0            6.0          8.0                    800.0   \n",
            "\n",
            "       cloud_type  drybulb  dewpoint  \n",
            "34132          39    15.65     15.05  \n",
            "34133          39    18.85     17.35  \n",
            "34134          38    15.65     13.85  \n",
            "34135          38    17.25     15.25  \n",
            "34136          32    18.25     16.45  \n",
            "...           ...      ...       ...  \n",
            "68951          32    12.85     12.55  \n",
            "68955          32    12.45     12.45  \n",
            "68956          30    12.45     12.15  \n",
            "68957          32    12.45     12.45  \n",
            "68959          38    12.05     12.05  \n",
            "\n",
            "[1181 rows x 20 columns]\n"
          ]
        },
        {
          "output_type": "display_data",
          "data": {
            "text/plain": [
              "<Figure size 1000x600 with 1 Axes>"
            ],
            "image/png": "[encoded data removed]"
          },
          "metadata": {}
        },
        {
          "output_type": "stream",
          "name": "stdout",
          "text": [
            "Outliers in three_hour_pressure_change:\n",
            "                   date  idstazione    lon    lat  altezza  pressure  \\\n",
            "33741  15/09/2013 18:00       16253  14.07  41.05       10  101050.0   \n",
            "33743  16/09/2013 00:00       16253  14.07  41.05       10  100750.0   \n",
            "33856  30/09/2013 03:00       16253  14.07  41.05       10  100200.0   \n",
            "33873  02/10/2013 09:00       16253  14.07  41.05       10  101130.0   \n",
            "33876  02/10/2013 18:00       16253  14.07  41.05       10  101430.0   \n",
            "...                 ...         ...    ...    ...      ...       ...   \n",
            "69105  13/11/2023 08:00       16253  14.08  41.06       10  101790.0   \n",
            "69170  17/11/2023 03:00       16253  14.08  41.06       10  101370.0   \n",
            "69171  17/11/2023 04:00       16253  14.08  41.06       10  101350.0   \n",
            "69180  17/11/2023 13:00       16253  14.08  41.06       10  101000.0   \n",
            "69190  17/11/2023 23:00       16253  14.08  41.06       10  101310.0   \n",
            "\n",
            "       three_hour_pressure_change  char_pressure_tendency  wind_direction  \\\n",
            "33741                      -260.0                     7.0            90.0   \n",
            "33743                      -270.0                     7.0           350.0   \n",
            "33856                      -290.0                     7.0           220.0   \n",
            "33873                       210.0                     1.0            70.0   \n",
            "33876                       220.0                     2.0            60.0   \n",
            "...                           ...                     ...             ...   \n",
            "69105                       230.0                     2.0            30.0   \n",
            "69170                      -290.0                     7.0           190.0   \n",
            "69171                      -220.0                     6.0           180.0   \n",
            "69180                      -210.0                     7.0           220.0   \n",
            "69190                       210.0                     2.0            10.0   \n",
            "\n",
            "       wind_speed  relative_humidity  visibility  present_weather  \\\n",
            "33741      3.8876                NaN     10000.0              2.0   \n",
            "33743      7.7752                NaN     10000.0             17.0   \n",
            "33856     13.6066                NaN     12000.0             13.0   \n",
            "33873      7.7752                NaN     20000.0              2.0   \n",
            "33876      9.7190                NaN     20000.0              2.0   \n",
            "...           ...                ...         ...              ...   \n",
            "69105      5.8314                NaN     15000.0              2.0   \n",
            "69170     13.6066                NaN     10000.0             21.0   \n",
            "69171     15.5504                NaN     10000.0              2.0   \n",
            "69180     13.6066                NaN     15000.0              2.0   \n",
            "69190     11.6628                NaN     11000.0              2.0   \n",
            "\n",
            "       past_weather1  past_weather2  cloud_cover  height_of_base_of_cloud  \\\n",
            "33741            1.0            1.0          6.0                    800.0   \n",
            "33743            9.0            2.0          7.0                    800.0   \n",
            "33856            2.0            2.0          8.0                    800.0   \n",
            "33873            1.0            1.0          0.0                    800.0   \n",
            "33876            1.0            1.0          2.0                   1750.0   \n",
            "...              ...            ...          ...                      ...   \n",
            "69105            1.0            1.0          2.0                   8000.0   \n",
            "69170            6.0            2.0          7.0                    800.0   \n",
            "69171            1.0            1.0          7.0                    800.0   \n",
            "69180            1.0            1.0          4.0                    800.0   \n",
            "69190            1.0            1.0          0.0                    800.0   \n",
            "\n",
            "       cloud_type  drybulb  dewpoint  \n",
            "33741          32    22.05     19.75  \n",
            "33743          39    19.05     17.15  \n",
            "33856          39    24.05     21.55  \n",
            "33873          62    23.05     14.85  \n",
            "33876          30    20.45     13.65  \n",
            "...           ...      ...       ...  \n",
            "69105          30    10.65      9.45  \n",
            "69170          38    17.65     16.05  \n",
            "69171          38    18.65     15.15  \n",
            "69180          38    20.25     14.65  \n",
            "69190          62    13.05      5.45  \n",
            "\n",
            "[1582 rows x 20 columns]\n"
          ]
        },
        {
          "output_type": "display_data",
          "data": {
            "text/plain": [
              "<Figure size 1000x600 with 1 Axes>"
            ],
            "image/png": "[encoded data removed]"
          },
          "metadata": {}
        },
        {
          "output_type": "stream",
          "name": "stdout",
          "text": [
            "No outliers detected in char_pressure_tendency\n"
          ]
        },
        {
          "output_type": "display_data",
          "data": {
            "text/plain": [
              "<Figure size 1000x600 with 1 Axes>"
            ],
            "image/png": "[encoded data removed]"
          },
          "metadata": {}
        },
        {
          "output_type": "stream",
          "name": "stdout",
          "text": [
            "No outliers detected in wind_direction\n"
          ]
        },
        {
          "output_type": "display_data",
          "data": {
            "text/plain": [
              "<Figure size 1000x600 with 1 Axes>"
            ],
            "image/png": "[encoded data removed]"
          },
          "metadata": {}
        },
        {
          "output_type": "stream",
          "name": "stdout",
          "text": [
            "Outliers in wind_speed:\n",
            "                   date  idstazione    lon    lat  altezza  pressure  \\\n",
            "33691  09/09/2013 12:00       16253  14.07  41.05       10  101700.0   \n",
            "33754  17/09/2013 09:00       16253  14.07  41.05       10  100450.0   \n",
            "33755  17/09/2013 12:00       16253  14.07  41.05       10  100380.0   \n",
            "33881  03/10/2013 09:00       16253  14.07  41.05       10  102080.0   \n",
            "34131  05/11/2013 00:00       16253  14.07  41.05       10  100020.0   \n",
            "...                 ...         ...    ...    ...      ...       ...   \n",
            "69176  17/11/2023 09:00       16253  14.08  41.06       10  101250.0   \n",
            "69178  17/11/2023 11:00       16253  14.08  41.06       10  101200.0   \n",
            "69179  17/11/2023 12:00       16253  14.08  41.06       10  101130.0   \n",
            "69181  17/11/2023 14:00       16253  14.08  41.06       10  101030.0   \n",
            "69182  17/11/2023 15:00       16253  14.08  41.06       10  101030.0   \n",
            "\n",
            "       three_hour_pressure_change  char_pressure_tendency  wind_direction  \\\n",
            "33691                      -150.0                     6.0           220.0   \n",
            "33754                       -10.0                     5.0           250.0   \n",
            "33755                       -70.0                     8.0           270.0   \n",
            "33881                       130.0                     2.0            60.0   \n",
            "34131                      -270.0                     7.0           210.0   \n",
            "...                           ...                     ...             ...   \n",
            "69176                      -100.0                     7.0           220.0   \n",
            "69178                       -80.0                     6.0           220.0   \n",
            "69179                      -120.0                     7.0           210.0   \n",
            "69181                      -170.0                     6.0           220.0   \n",
            "69182                      -100.0                     6.0           210.0   \n",
            "\n",
            "       wind_speed  relative_humidity  visibility  present_weather  \\\n",
            "33691     15.5504                NaN     13000.0              2.0   \n",
            "33754     15.5504                NaN     15000.0              2.0   \n",
            "33755     19.4380                NaN     15000.0             60.0   \n",
            "33881     17.4942                NaN     30000.0              2.0   \n",
            "34131     15.5504                NaN     10000.0              2.0   \n",
            "...           ...                ...         ...              ...   \n",
            "69176     15.5504                NaN     15000.0              2.0   \n",
            "69178     15.5504                NaN     15000.0              2.0   \n",
            "69179     15.5504                NaN     15000.0              2.0   \n",
            "69181     15.5504                NaN     15000.0              2.0   \n",
            "69182     15.5504                NaN     15000.0              2.0   \n",
            "\n",
            "       past_weather1  past_weather2  cloud_cover  height_of_base_of_cloud  \\\n",
            "33691            1.0            1.0          6.0                    450.0   \n",
            "33754            6.0            2.0          6.0                    800.0   \n",
            "33755            6.0            2.0          6.0                    800.0   \n",
            "33881            1.0            1.0          1.0                   8000.0   \n",
            "34131            9.0            1.0          6.0                    450.0   \n",
            "...              ...            ...          ...                      ...   \n",
            "69176            1.0            1.0          4.0                    800.0   \n",
            "69178            1.0            1.0          5.0                    800.0   \n",
            "69179            1.0            1.0          4.0                    800.0   \n",
            "69181            1.0            1.0          4.0                    800.0   \n",
            "69182            1.0            1.0          6.0                    800.0   \n",
            "\n",
            "       cloud_type  drybulb  dewpoint  \n",
            "33691          32    29.05  24.35000  \n",
            "33754          31    24.05  19.35000  \n",
            "33755          38    23.65  17.45000  \n",
            "33881          30    20.25   8.95001  \n",
            "34131          39    19.25  17.45000  \n",
            "...           ...      ...       ...  \n",
            "69176          30    19.05  12.35000  \n",
            "69178          38    19.65  13.55000  \n",
            "69179          38    19.85  14.25000  \n",
            "69181          38    19.05  14.55000  \n",
            "69182          38    18.05  13.55000  \n",
            "\n",
            "[1326 rows x 20 columns]\n"
          ]
        },
        {
          "output_type": "error",
          "ename": "ValueError",
          "evalue": "List of boxplot statistics and `positions` values must have same the length",
          "traceback": [
            "\u001b[0;31m---------------------------------------------------------------------------\u001b[0m",
            "\u001b[0;31mValueError\u001b[0m                                Traceback (most recent call last)",
            "\u001b[0;32m<ipython-input-7-1d473393a780>\u001b[0m in \u001b[0;36m<cell line: 22>\u001b[0;34m()\u001b[0m\n\u001b[1;32m     21\u001b[0m \u001b[0;31m# Check for outliers in Grazzanise_Airport\u001b[0m\u001b[0;34m\u001b[0m\u001b[0;34m\u001b[0m\u001b[0m\n\u001b[1;32m     22\u001b[0m \u001b[0;32mfor\u001b[0m \u001b[0mcolumn\u001b[0m \u001b[0;32min\u001b[0m \u001b[0mGrazzanise_Airport\u001b[0m\u001b[0;34m.\u001b[0m\u001b[0mselect_dtypes\u001b[0m\u001b[0;34m(\u001b[0m\u001b[0minclude\u001b[0m\u001b[0;34m=\u001b[0m\u001b[0;34m[\u001b[0m\u001b[0;34m'float64'\u001b[0m\u001b[0;34m,\u001b[0m \u001b[0;34m'int64'\u001b[0m\u001b[0;34m]\u001b[0m\u001b[0;34m)\u001b[0m\u001b[0;34m.\u001b[0m\u001b[0mcolumns\u001b[0m\u001b[0;34m:\u001b[0m\u001b[0;34m\u001b[0m\u001b[0;34m\u001b[0m\u001b[0m\n\u001b[0;32m---> 23\u001b[0;31m     \u001b[0mplot_box_and_identify_outliers\u001b[0m\u001b[0;34m(\u001b[0m\u001b[0mGrazzanise_Airport\u001b[0m\u001b[0;34m,\u001b[0m \u001b[0mcolumn\u001b[0m\u001b[0;34m)\u001b[0m\u001b[0;34m\u001b[0m\u001b[0;34m\u001b[0m\u001b[0m\n\u001b[0m",
            "\u001b[0;32m<ipython-input-7-1d473393a780>\u001b[0m in \u001b[0;36mplot_box_and_identify_outliers\u001b[0;34m(data, column)\u001b[0m\n\u001b[1;32m      2\u001b[0m \u001b[0;32mdef\u001b[0m \u001b[0mplot_box_and_identify_outliers\u001b[0m\u001b[0;34m(\u001b[0m\u001b[0mdata\u001b[0m\u001b[0;34m,\u001b[0m \u001b[0mcolumn\u001b[0m\u001b[0;34m)\u001b[0m\u001b[0;34m:\u001b[0m\u001b[0;34m\u001b[0m\u001b[0;34m\u001b[0m\u001b[0m\n\u001b[1;32m      3\u001b[0m     \u001b[0mplt\u001b[0m\u001b[0;34m.\u001b[0m\u001b[0mfigure\u001b[0m\u001b[0;34m(\u001b[0m\u001b[0mfigsize\u001b[0m\u001b[0;34m=\u001b[0m\u001b[0;34m(\u001b[0m\u001b[0;36m10\u001b[0m\u001b[0;34m,\u001b[0m \u001b[0;36m6\u001b[0m\u001b[0;34m)\u001b[0m\u001b[0;34m)\u001b[0m\u001b[0;34m\u001b[0m\u001b[0;34m\u001b[0m\u001b[0m\n\u001b[0;32m----> 4\u001b[0;31m     \u001b[0msns\u001b[0m\u001b[0;34m.\u001b[0m\u001b[0mboxplot\u001b[0m\u001b[0;34m(\u001b[0m\u001b[0mdata\u001b[0m\u001b[0;34m=\u001b[0m\u001b[0mdata\u001b[0m\u001b[0;34m,\u001b[0m \u001b[0mx\u001b[0m\u001b[0;34m=\u001b[0m\u001b[0mcolumn\u001b[0m\u001b[0;34m)\u001b[0m\u001b[0;34m\u001b[0m\u001b[0;34m\u001b[0m\u001b[0m\n\u001b[0m\u001b[1;32m      5\u001b[0m     \u001b[0mplt\u001b[0m\u001b[0;34m.\u001b[0m\u001b[0mtitle\u001b[0m\u001b[0;34m(\u001b[0m\u001b[0;34mf\"Box Plot for {column}\"\u001b[0m\u001b[0;34m)\u001b[0m\u001b[0;34m\u001b[0m\u001b[0;34m\u001b[0m\u001b[0m\n\u001b[1;32m      6\u001b[0m     \u001b[0mplt\u001b[0m\u001b[0;34m.\u001b[0m\u001b[0mshow\u001b[0m\u001b[0;34m(\u001b[0m\u001b[0;34m)\u001b[0m\u001b[0;34m\u001b[0m\u001b[0;34m\u001b[0m\u001b[0m\n",
            "\u001b[0;32m/usr/local/lib/python3.10/dist-packages/seaborn/categorical.py\u001b[0m in \u001b[0;36mboxplot\u001b[0;34m(data, x, y, hue, order, hue_order, orient, color, palette, saturation, fill, dodge, width, gap, whis, linecolor, linewidth, fliersize, hue_norm, native_scale, log_scale, formatter, legend, ax, **kwargs)\u001b[0m\n\u001b[1;32m   1631\u001b[0m     \u001b[0mlinecolor\u001b[0m \u001b[0;34m=\u001b[0m \u001b[0mp\u001b[0m\u001b[0;34m.\u001b[0m\u001b[0m_complement_color\u001b[0m\u001b[0;34m(\u001b[0m\u001b[0mlinecolor\u001b[0m\u001b[0;34m,\u001b[0m \u001b[0mcolor\u001b[0m\u001b[0;34m,\u001b[0m \u001b[0mp\u001b[0m\u001b[0;34m.\u001b[0m\u001b[0m_hue_map\u001b[0m\u001b[0;34m)\u001b[0m\u001b[0;34m\u001b[0m\u001b[0;34m\u001b[0m\u001b[0m\n\u001b[1;32m   1632\u001b[0m \u001b[0;34m\u001b[0m\u001b[0m\n\u001b[0;32m-> 1633\u001b[0;31m     p.plot_boxes(\n\u001b[0m\u001b[1;32m   1634\u001b[0m         \u001b[0mwidth\u001b[0m\u001b[0;34m=\u001b[0m\u001b[0mwidth\u001b[0m\u001b[0;34m,\u001b[0m\u001b[0;34m\u001b[0m\u001b[0;34m\u001b[0m\u001b[0m\n\u001b[1;32m   1635\u001b[0m         \u001b[0mdodge\u001b[0m\u001b[0;34m=\u001b[0m\u001b[0mdodge\u001b[0m\u001b[0;34m,\u001b[0m\u001b[0;34m\u001b[0m\u001b[0;34m\u001b[0m\u001b[0m\n",
            "\u001b[0;32m/usr/local/lib/python3.10/dist-packages/seaborn/categorical.py\u001b[0m in \u001b[0;36mplot_boxes\u001b[0;34m(self, width, dodge, gap, fill, whis, color, linecolor, linewidth, fliersize, plot_kws)\u001b[0m\n\u001b[1;32m    697\u001b[0m             )\n\u001b[1;32m    698\u001b[0m             \u001b[0mboxplot_kws\u001b[0m \u001b[0;34m=\u001b[0m \u001b[0;34m{\u001b[0m\u001b[0;34m**\u001b[0m\u001b[0mdefault_kws\u001b[0m\u001b[0;34m,\u001b[0m \u001b[0;34m**\u001b[0m\u001b[0mplot_kws\u001b[0m\u001b[0;34m}\u001b[0m\u001b[0;34m\u001b[0m\u001b[0;34m\u001b[0m\u001b[0m\n\u001b[0;32m--> 699\u001b[0;31m             \u001b[0martists\u001b[0m \u001b[0;34m=\u001b[0m \u001b[0max\u001b[0m\u001b[0;34m.\u001b[0m\u001b[0mbxp\u001b[0m\u001b[0;34m(\u001b[0m\u001b[0;34m**\u001b[0m\u001b[0mboxplot_kws\u001b[0m\u001b[0;34m)\u001b[0m\u001b[0;34m\u001b[0m\u001b[0;34m\u001b[0m\u001b[0m\n\u001b[0m\u001b[1;32m    700\u001b[0m \u001b[0;34m\u001b[0m\u001b[0m\n\u001b[1;32m    701\u001b[0m             \u001b[0;31m# Reset artist widths after adding so everything stays positive\u001b[0m\u001b[0;34m\u001b[0m\u001b[0;34m\u001b[0m\u001b[0m\n",
            "\u001b[0;32m/usr/local/lib/python3.10/dist-packages/matplotlib/axes/_axes.py\u001b[0m in \u001b[0;36mbxp\u001b[0;34m(self, bxpstats, positions, widths, vert, patch_artist, shownotches, showmeans, showcaps, showbox, showfliers, boxprops, whiskerprops, flierprops, medianprops, capprops, meanprops, meanline, manage_ticks, zorder, capwidths)\u001b[0m\n\u001b[1;32m   4185\u001b[0m             \u001b[0mpositions\u001b[0m \u001b[0;34m=\u001b[0m \u001b[0mlist\u001b[0m\u001b[0;34m(\u001b[0m\u001b[0mrange\u001b[0m\u001b[0;34m(\u001b[0m\u001b[0;36m1\u001b[0m\u001b[0;34m,\u001b[0m \u001b[0mN\u001b[0m \u001b[0;34m+\u001b[0m \u001b[0;36m1\u001b[0m\u001b[0;34m)\u001b[0m\u001b[0;34m)\u001b[0m\u001b[0;34m\u001b[0m\u001b[0;34m\u001b[0m\u001b[0m\n\u001b[1;32m   4186\u001b[0m         \u001b[0;32melif\u001b[0m \u001b[0mlen\u001b[0m\u001b[0;34m(\u001b[0m\u001b[0mpositions\u001b[0m\u001b[0;34m)\u001b[0m \u001b[0;34m!=\u001b[0m \u001b[0mN\u001b[0m\u001b[0;34m:\u001b[0m\u001b[0;34m\u001b[0m\u001b[0;34m\u001b[0m\u001b[0m\n\u001b[0;32m-> 4187\u001b[0;31m             \u001b[0;32mraise\u001b[0m \u001b[0mValueError\u001b[0m\u001b[0;34m(\u001b[0m\u001b[0mdatashape_message\u001b[0m\u001b[0;34m.\u001b[0m\u001b[0mformat\u001b[0m\u001b[0;34m(\u001b[0m\u001b[0;34m\"positions\"\u001b[0m\u001b[0;34m)\u001b[0m\u001b[0;34m)\u001b[0m\u001b[0;34m\u001b[0m\u001b[0;34m\u001b[0m\u001b[0m\n\u001b[0m\u001b[1;32m   4188\u001b[0m \u001b[0;34m\u001b[0m\u001b[0m\n\u001b[1;32m   4189\u001b[0m         \u001b[0mpositions\u001b[0m \u001b[0;34m=\u001b[0m \u001b[0mnp\u001b[0m\u001b[0;34m.\u001b[0m\u001b[0marray\u001b[0m\u001b[0;34m(\u001b[0m\u001b[0mpositions\u001b[0m\u001b[0;34m)\u001b[0m\u001b[0;34m\u001b[0m\u001b[0;34m\u001b[0m\u001b[0m\n",
            "\u001b[0;31mValueError\u001b[0m: List of boxplot statistics and `positions` values must have same the length"
          ]
        },
        {
          "output_type": "display_data",
          "data": {
            "text/plain": [
              "<Figure size 1000x600 with 1 Axes>"
            ],
            "image/png": "[encoded data removed]"
          },
          "metadata": {}
        }
      ]
    },
    {
      "cell_type": "code",
      "source": [
        "# Function to clean date column and convert to datetime\n",
        "def clean_date_column(df, column_name, date_format):\n",
        "    df[column_name] = df[column_name].str.strip()\n",
        "    df[column_name] = pd.to_datetime(df[column_name], format=date_format, errors='coerce')\n",
        "    df.dropna(subset=[column_name], inplace=True)\n",
        "    return df\n",
        "\n",
        "# Clean and convert date columns with dayfirst parameter\n",
        "Grazzanise_Airport = clean_date_column(Grazzanise_Airport, 'date', '%d/%m/%Y %H:%M')\n",
        "Treviso_Airport = clean_date_column(Treviso_Airport, 'date', '%d/%m/%Y %H:%M')\n",
        "Trapani_Airport = clean_date_column(Trapani_Airport, 'date', '%d/%m/%Y %H:%M')\n",
        "\n",
        "# Set the date column as the index\n",
        "Grazzanise_Airport.set_index('date', inplace=True)\n",
        "Treviso_Airport.set_index('date', inplace=True)\n",
        "Trapani_Airport.set_index('date', inplace=True)"
      ],
      "metadata": {
        "id": "2FM2HT_24urb"
      },
      "execution_count": 9,
      "outputs": []
    },
    {
      "cell_type": "code",
      "source": [
        "# Function to check for stationarity\n",
        "def check_stationarity(data, column):\n",
        "    result = adfuller(data[column].dropna())\n",
        "    adf_statistic, p_value = result[0], result[1]\n",
        "    print(f'ADF Statistic for {column}: {adf_statistic}')\n",
        "    print(f'p-value for {column}: {p_value}')\n",
        "    return adf_statistic, p_value\n",
        "\n",
        "print(\"Grazzanise Airport Visibility Stationarity Check:\")\n",
        "check_stationarity(Grazzanise_Airport, 'visibility')\n",
        "print(\"\\nTreviso Airport Visibility Stationarity Check:\")\n",
        "check_stationarity(Treviso_Airport, 'visibility')\n",
        "print(\"\\nTrapani Airport Visibility Stationarity Check:\")\n",
        "check_stationarity(Trapani_Airport, 'visibility')\n",
        "\n"
      ],
      "metadata": {
        "colab": {
          "base_uri": "https://localhost:8080/"
        },
        "id": "G544VSuc5kgm",
        "outputId": "8a43b8d6-0a1c-439c-cf3f-7219c6ea8314"
      },
      "execution_count": 10,
      "outputs": [
        {
          "output_type": "stream",
          "name": "stdout",
          "text": [
            "Grazzanise Airport Visibility Stationarity Check:\n",
            "ADF Statistic for visibility: -19.678438046235716\n",
            "p-value for visibility: 0.0\n",
            "\n",
            "Treviso Airport Visibility Stationarity Check:\n",
            "ADF Statistic for visibility: -24.11582017470914\n",
            "p-value for visibility: 0.0\n",
            "\n",
            "Trapani Airport Visibility Stationarity Check:\n",
            "ADF Statistic for visibility: -22.97147468496935\n",
            "p-value for visibility: 0.0\n"
          ]
        },
        {
          "output_type": "execute_result",
          "data": {
            "text/plain": [
              "(-22.97147468496935, 0.0)"
            ]
          },
          "metadata": {},
          "execution_count": 10
        }
      ]
    },
    {
      "cell_type": "code",
      "source": [
        "# Function to apply differencing if necessary\n",
        "def difference_data(data, column):\n",
        "    data[f'{column}_diff'] = data[column].diff().dropna()\n",
        "    return data\n",
        "\n",
        "# Apply differencing if necessary\n",
        "for df, name in zip([Grazzanise_Airport, Treviso_Airport, Trapani_Airport],\n",
        "                    ['Grazzanise', 'Treviso', 'Trapani']):\n",
        "    adf_stat, p_val = check_stationarity(df, 'visibility')\n",
        "    if p_val > 0.05:\n",
        "        print(f\"Differencing required for {name} visibility.\")\n",
        "        df = difference_data(df, 'visibility')\n",
        "        check_stationarity(df, 'visibility_diff')\n",
        "    else:\n",
        "        print(f\"No differencing required for {name} visibility.\")\n"
      ],
      "metadata": {
        "colab": {
          "base_uri": "https://localhost:8080/"
        },
        "id": "ymcC1DYb581m",
        "outputId": "35e1b28c-fb2c-4432-c3fa-e429ba6a471a"
      },
      "execution_count": 11,
      "outputs": [
        {
          "output_type": "stream",
          "name": "stdout",
          "text": [
            "ADF Statistic for visibility: -19.678438046235716\n",
            "p-value for visibility: 0.0\n",
            "No differencing required for Grazzanise visibility.\n",
            "ADF Statistic for visibility: -24.11582017470914\n",
            "p-value for visibility: 0.0\n",
            "No differencing required for Treviso visibility.\n",
            "ADF Statistic for visibility: -22.97147468496935\n",
            "p-value for visibility: 0.0\n",
            "No differencing required for Trapani visibility.\n"
          ]
        }
      ]
    },
    {
      "cell_type": "code",
      "source": [
        "# Function to train ARIMA model\n",
        "def train_arima_model(data, column, order):\n",
        "    model = ARIMA(data[column].dropna(), order=order)\n",
        "    model_fit = model.fit()\n",
        "    print(model_fit.summary())\n",
        "    return model_fit\n",
        "\n",
        "# Train ARIMA model on visibility data\n",
        "model_Grazzanise = train_arima_model(Grazzanise_Airport, 'visibility', (1, 1, 1))\n",
        "model_Treviso = train_arima_model(Treviso_Airport, 'visibility', (1, 1, 1))\n",
        "model_Trapani = train_arima_model(Trapani_Airport, 'visibility', (1, 1, 1))\n"
      ],
      "metadata": {
        "colab": {
          "base_uri": "https://localhost:8080/"
        },
        "id": "kebviTFq6Soc",
        "outputId": "ea948994-ee76-4e8d-d447-95857d4de746"
      },
      "execution_count": 12,
      "outputs": [
        {
          "output_type": "stream",
          "name": "stderr",
          "text": [
            "/usr/local/lib/python3.10/dist-packages/statsmodels/tsa/base/tsa_model.py:473: ValueWarning: A date index has been provided, but it has no associated frequency information and so will be ignored when e.g. forecasting.\n",
            "  self._init_dates(dates, freq)\n",
            "/usr/local/lib/python3.10/dist-packages/statsmodels/tsa/base/tsa_model.py:473: ValueWarning: A date index has been provided, but it has no associated frequency information and so will be ignored when e.g. forecasting.\n",
            "  self._init_dates(dates, freq)\n",
            "/usr/local/lib/python3.10/dist-packages/statsmodels/tsa/base/tsa_model.py:473: ValueWarning: A date index has been provided, but it has no associated frequency information and so will be ignored when e.g. forecasting.\n",
            "  self._init_dates(dates, freq)\n"
          ]
        },
        {
          "output_type": "stream",
          "name": "stdout",
          "text": [
            "                               SARIMAX Results                                \n",
            "==============================================================================\n",
            "Dep. Variable:             visibility   No. Observations:                35558\n",
            "Model:                 ARIMA(1, 1, 1)   Log Likelihood             -348872.865\n",
            "Date:                Wed, 22 May 2024   AIC                         697751.730\n",
            "Time:                        10:47:20   BIC                         697777.166\n",
            "Sample:                             0   HQIC                        697759.826\n",
            "                              - 35558                                         \n",
            "Covariance Type:                  opg                                         \n",
            "==============================================================================\n",
            "                 coef    std err          z      P>|z|      [0.025      0.975]\n",
            "------------------------------------------------------------------------------\n",
            "ar.L1          0.7400      0.002    470.977      0.000       0.737       0.743\n",
            "ma.L1         -0.9900      0.001  -1149.537      0.000      -0.992      -0.988\n",
            "sigma2       1.95e+07   3.09e-11   6.31e+17      0.000    1.95e+07    1.95e+07\n",
            "===================================================================================\n",
            "Ljung-Box (L1) (Q):                  57.32   Jarque-Bera (JB):           2083490.22\n",
            "Prob(Q):                              0.00   Prob(JB):                         0.00\n",
            "Heteroskedasticity (H):               0.52   Skew:                             1.17\n",
            "Prob(H) (two-sided):                  0.00   Kurtosis:                        40.43\n",
            "===================================================================================\n",
            "\n",
            "Warnings:\n",
            "[1] Covariance matrix calculated using the outer product of gradients (complex-step).\n",
            "[2] Covariance matrix is singular or near-singular, with condition number 3.95e+31. Standard errors may be unstable.\n"
          ]
        },
        {
          "output_type": "stream",
          "name": "stderr",
          "text": [
            "/usr/local/lib/python3.10/dist-packages/statsmodels/tsa/base/tsa_model.py:473: ValueWarning: A date index has been provided, but it has no associated frequency information and so will be ignored when e.g. forecasting.\n",
            "  self._init_dates(dates, freq)\n",
            "/usr/local/lib/python3.10/dist-packages/statsmodels/tsa/base/tsa_model.py:473: ValueWarning: A date index has been provided, but it has no associated frequency information and so will be ignored when e.g. forecasting.\n",
            "  self._init_dates(dates, freq)\n",
            "/usr/local/lib/python3.10/dist-packages/statsmodels/tsa/base/tsa_model.py:473: ValueWarning: A date index has been provided, but it has no associated frequency information and so will be ignored when e.g. forecasting.\n",
            "  self._init_dates(dates, freq)\n"
          ]
        },
        {
          "output_type": "stream",
          "name": "stdout",
          "text": [
            "                               SARIMAX Results                                \n",
            "==============================================================================\n",
            "Dep. Variable:             visibility   No. Observations:                78798\n",
            "Model:                 ARIMA(1, 1, 1)   Log Likelihood             -740331.648\n",
            "Date:                Wed, 22 May 2024   AIC                        1480669.295\n",
            "Time:                        10:47:25   BIC                        1480697.119\n",
            "Sample:                             0   HQIC                       1480677.831\n",
            "                              - 78798                                         \n",
            "Covariance Type:                  opg                                         \n",
            "==============================================================================\n",
            "                 coef    std err          z      P>|z|      [0.025      0.975]\n",
            "------------------------------------------------------------------------------\n",
            "ar.L1         -0.0809      0.012     -6.929      0.000      -0.104      -0.058\n",
            "ma.L1         -0.0955      0.012     -8.109      0.000      -0.119      -0.072\n",
            "sigma2      8.478e+06   6405.422   1323.609      0.000    8.47e+06    8.49e+06\n",
            "===================================================================================\n",
            "Ljung-Box (L1) (Q):                   0.00   Jarque-Bera (JB):          48940928.86\n",
            "Prob(Q):                              0.96   Prob(JB):                         0.00\n",
            "Heteroskedasticity (H):               1.08   Skew:                             1.86\n",
            "Prob(H) (two-sided):                  0.00   Kurtosis:                       125.04\n",
            "===================================================================================\n",
            "\n",
            "Warnings:\n",
            "[1] Covariance matrix calculated using the outer product of gradients (complex-step).\n"
          ]
        },
        {
          "output_type": "stream",
          "name": "stderr",
          "text": [
            "/usr/local/lib/python3.10/dist-packages/statsmodels/tsa/base/tsa_model.py:473: ValueWarning: A date index has been provided, but it has no associated frequency information and so will be ignored when e.g. forecasting.\n",
            "  self._init_dates(dates, freq)\n",
            "/usr/local/lib/python3.10/dist-packages/statsmodels/tsa/base/tsa_model.py:473: ValueWarning: A date index has been provided, but it has no associated frequency information and so will be ignored when e.g. forecasting.\n",
            "  self._init_dates(dates, freq)\n",
            "/usr/local/lib/python3.10/dist-packages/statsmodels/tsa/base/tsa_model.py:473: ValueWarning: A date index has been provided, but it has no associated frequency information and so will be ignored when e.g. forecasting.\n",
            "  self._init_dates(dates, freq)\n"
          ]
        },
        {
          "output_type": "stream",
          "name": "stdout",
          "text": [
            "                               SARIMAX Results                                \n",
            "==============================================================================\n",
            "Dep. Variable:             visibility   No. Observations:                77151\n",
            "Model:                 ARIMA(1, 1, 1)   Log Likelihood             -742638.026\n",
            "Date:                Wed, 22 May 2024   AIC                        1485282.052\n",
            "Time:                        10:47:33   BIC                        1485309.812\n",
            "Sample:                             0   HQIC                       1485290.576\n",
            "                              - 77151                                         \n",
            "Covariance Type:                  opg                                         \n",
            "==============================================================================\n",
            "                 coef    std err          z      P>|z|      [0.025      0.975]\n",
            "------------------------------------------------------------------------------\n",
            "ar.L1         -0.0509      0.034     -1.514      0.130      -0.117       0.015\n",
            "ma.L1         -0.0149      0.034     -0.443      0.657      -0.081       0.051\n",
            "sigma2      1.344e+07   1.66e+04    811.643      0.000    1.34e+07    1.35e+07\n",
            "===================================================================================\n",
            "Ljung-Box (L1) (Q):                   0.00   Jarque-Bera (JB):           5705055.02\n",
            "Prob(Q):                              1.00   Prob(JB):                         0.00\n",
            "Heteroskedasticity (H):               2.19   Skew:                             0.89\n",
            "Prob(H) (two-sided):                  0.00   Kurtosis:                        45.09\n",
            "===================================================================================\n",
            "\n",
            "Warnings:\n",
            "[1] Covariance matrix calculated using the outer product of gradients (complex-step).\n"
          ]
        }
      ]
    },
    {
      "cell_type": "code",
      "source": [
        "# Function to forecast visibility\n",
        "def forecast_visibility(model, steps):\n",
        "    forecast = model.forecast(steps=steps)\n",
        "    return forecast\n",
        "\n",
        "# Forecasting next 10 steps for each airport\n",
        "forecast_steps = 10\n",
        "forecasts_Grazzanise = forecast_visibility(model_Grazzanise, forecast_steps)\n",
        "forecasts_Treviso = forecast_visibility(model_Treviso, forecast_steps)\n",
        "forecasts_Trapani = forecast_visibility(model_Trapani, forecast_steps)\n"
      ],
      "metadata": {
        "colab": {
          "base_uri": "https://localhost:8080/"
        },
        "id": "g36pa4rK6ZA9",
        "outputId": "8948d9dc-c7b0-4f1e-9f43-c9295dbe2ff9"
      },
      "execution_count": 15,
      "outputs": [
        {
          "output_type": "stream",
          "name": "stderr",
          "text": [
            "/usr/local/lib/python3.10/dist-packages/statsmodels/tsa/base/tsa_model.py:836: ValueWarning: No supported index is available. Prediction results will be given with an integer index beginning at `start`.\n",
            "  return get_prediction_index(\n",
            "/usr/local/lib/python3.10/dist-packages/statsmodels/tsa/base/tsa_model.py:836: FutureWarning: No supported index is available. In the next version, calling this method in a model without a supported index will result in an exception.\n",
            "  return get_prediction_index(\n",
            "/usr/local/lib/python3.10/dist-packages/statsmodels/tsa/base/tsa_model.py:836: ValueWarning: No supported index is available. Prediction results will be given with an integer index beginning at `start`.\n",
            "  return get_prediction_index(\n",
            "/usr/local/lib/python3.10/dist-packages/statsmodels/tsa/base/tsa_model.py:836: ValueWarning: No supported index is available. Prediction results will be given with an integer index beginning at `start`.\n",
            "  return get_prediction_index(\n"
          ]
        }
      ]
    }
  ]
}